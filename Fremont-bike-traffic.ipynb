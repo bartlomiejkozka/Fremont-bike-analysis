{
 "cells": [
  {
   "cell_type": "markdown",
   "id": "c93fa628",
   "metadata": {},
   "source": [
    "# Analysis of bike traffic on Fremont Bridge in Seattle"
   ]
  },
  {
   "cell_type": "code",
   "execution_count": 2,
   "id": "ff8dd071",
   "metadata": {},
   "outputs": [],
   "source": [
    "import numpy as np\n",
    "import pandas as pd\n",
    "import scipy as sp\n",
    "import matplotlib as mpl\n",
    "import matplotlib.pyplot as plt\n",
    "import seaborn as sns"
   ]
  },
  {
   "cell_type": "markdown",
   "id": "1c792f7a",
   "metadata": {},
   "source": [
    "### Data Preprocessing"
   ]
  },
  {
   "cell_type": "code",
   "execution_count": 29,
   "id": "88b0d784",
   "metadata": {},
   "outputs": [
    {
     "name": "stderr",
     "output_type": "stream",
     "text": [
      "/var/folders/pm/cppmzmm510j_2083hwms8rdh0000gn/T/ipykernel_20576/1226459397.py:2: UserWarning: Could not infer format, so each element will be parsed individually, falling back to `dateutil`. To ensure parsing is consistent and as-expected, please specify a format.\n",
      "  bike_traffic_data.index = pd.to_datetime(bike_traffic_data['Date'])\n"
     ]
    },
    {
     "name": "stdout",
     "output_type": "stream",
     "text": [
      "datetime64[ns]\n",
      "True\n",
      "False\n",
      "0\n"
     ]
    },
    {
     "data": {
      "text/html": [
       "<style type=\"text/css\">\n",
       "</style>\n",
       "<table id=\"T_715e6\">\n",
       "  <thead>\n",
       "    <tr>\n",
       "      <th class=\"blank level0\" >&nbsp;</th>\n",
       "      <th id=\"T_715e6_level0_col0\" class=\"col_heading level0 col0\" >Total</th>\n",
       "      <th id=\"T_715e6_level0_col1\" class=\"col_heading level0 col1\" >East</th>\n",
       "      <th id=\"T_715e6_level0_col2\" class=\"col_heading level0 col2\" >West</th>\n",
       "    </tr>\n",
       "    <tr>\n",
       "      <th class=\"index_name level0\" >Date</th>\n",
       "      <th class=\"blank col0\" >&nbsp;</th>\n",
       "      <th class=\"blank col1\" >&nbsp;</th>\n",
       "      <th class=\"blank col2\" >&nbsp;</th>\n",
       "    </tr>\n",
       "  </thead>\n",
       "  <tbody>\n",
       "    <tr>\n",
       "      <th id=\"T_715e6_level0_row0\" class=\"row_heading level0 row0\" >2012-10-03 00:00:00</th>\n",
       "      <td id=\"T_715e6_row0_col0\" class=\"data row0 col0\" >13</td>\n",
       "      <td id=\"T_715e6_row0_col1\" class=\"data row0 col1\" >4</td>\n",
       "      <td id=\"T_715e6_row0_col2\" class=\"data row0 col2\" >9</td>\n",
       "    </tr>\n",
       "    <tr>\n",
       "      <th id=\"T_715e6_level0_row1\" class=\"row_heading level0 row1\" >2012-10-03 01:00:00</th>\n",
       "      <td id=\"T_715e6_row1_col0\" class=\"data row1 col0\" >10</td>\n",
       "      <td id=\"T_715e6_row1_col1\" class=\"data row1 col1\" >4</td>\n",
       "      <td id=\"T_715e6_row1_col2\" class=\"data row1 col2\" >6</td>\n",
       "    </tr>\n",
       "    <tr>\n",
       "      <th id=\"T_715e6_level0_row2\" class=\"row_heading level0 row2\" >2012-10-03 02:00:00</th>\n",
       "      <td id=\"T_715e6_row2_col0\" class=\"data row2 col0\" >2</td>\n",
       "      <td id=\"T_715e6_row2_col1\" class=\"data row2 col1\" >1</td>\n",
       "      <td id=\"T_715e6_row2_col2\" class=\"data row2 col2\" >1</td>\n",
       "    </tr>\n",
       "    <tr>\n",
       "      <th id=\"T_715e6_level0_row90549\" class=\"row_heading level0 row90549\" >2023-01-31 21:00:00</th>\n",
       "      <td id=\"T_715e6_row90549_col0\" class=\"data row90549 col0\" >22</td>\n",
       "      <td id=\"T_715e6_row90549_col1\" class=\"data row90549 col1\" >3</td>\n",
       "      <td id=\"T_715e6_row90549_col2\" class=\"data row90549 col2\" >19</td>\n",
       "    </tr>\n",
       "    <tr>\n",
       "      <th id=\"T_715e6_level0_row90550\" class=\"row_heading level0 row90550\" >2023-01-31 22:00:00</th>\n",
       "      <td id=\"T_715e6_row90550_col0\" class=\"data row90550 col0\" >18</td>\n",
       "      <td id=\"T_715e6_row90550_col1\" class=\"data row90550 col1\" >7</td>\n",
       "      <td id=\"T_715e6_row90550_col2\" class=\"data row90550 col2\" >11</td>\n",
       "    </tr>\n",
       "    <tr>\n",
       "      <th id=\"T_715e6_level0_row90551\" class=\"row_heading level0 row90551\" >2023-01-31 23:00:00</th>\n",
       "      <td id=\"T_715e6_row90551_col0\" class=\"data row90551 col0\" >6</td>\n",
       "      <td id=\"T_715e6_row90551_col1\" class=\"data row90551 col1\" >3</td>\n",
       "      <td id=\"T_715e6_row90551_col2\" class=\"data row90551 col2\" >3</td>\n",
       "    </tr>\n",
       "  </tbody>\n",
       "</table>\n"
      ],
      "text/plain": [
       "<pandas.io.formats.style.Styler at 0x30c986590>"
      ]
     },
     "execution_count": 29,
     "metadata": {},
     "output_type": "execute_result"
    }
   ],
   "source": [
    "bike_traffic_data = pd.read_csv('raw_bike_traffic_data.csv')\n",
    "bike_traffic_data.index = pd.to_datetime(bike_traffic_data['Date'])\n",
    "bike_traffic_data.drop(columns=['Date'], inplace=True)\n",
    "print(bike_traffic_data.index.dtype)\n",
    "print(bike_traffic_data.index.is_unique)\n",
    "print(bike_traffic_data.index.has_duplicates)\n",
    "print(bike_traffic_data.index.isna().sum())\n",
    "\n",
    "bike_traffic_data.rename(columns={'Fremont Bridge Total': 'Total', 'Fremont Bridge East Sidewalk': 'East', 'Fremont Bridge West Sidewalk': 'West'}, inplace=True)\n",
    "\n",
    "styled_bike_traffic_data = bike_traffic_data.style.format(precision=0).hide(bike_traffic_data.index[3:-3], axis=0)\n",
    "styled_bike_traffic_data"
   ]
  },
  {
   "cell_type": "code",
   "execution_count": null,
   "id": "2da3a612",
   "metadata": {},
   "outputs": [],
   "source": []
  }
 ],
 "metadata": {
  "kernelspec": {
   "display_name": ".venv",
   "language": "python",
   "name": "python3"
  },
  "language_info": {
   "codemirror_mode": {
    "name": "ipython",
    "version": 3
   },
   "file_extension": ".py",
   "mimetype": "text/x-python",
   "name": "python",
   "nbconvert_exporter": "python",
   "pygments_lexer": "ipython3",
   "version": "3.11.8"
  }
 },
 "nbformat": 4,
 "nbformat_minor": 5
}
